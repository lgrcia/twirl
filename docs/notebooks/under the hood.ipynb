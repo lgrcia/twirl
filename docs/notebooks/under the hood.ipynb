{
 "cells": [
  {
   "cell_type": "markdown",
   "id": "everyday-breeding",
   "metadata": {},
   "source": [
    "# Hunder the hood\n",
    "## Simulation of point clouds "
   ]
  },
  {
   "cell_type": "code",
   "execution_count": 1,
   "id": "yellow-japanese",
   "metadata": {},
   "outputs": [],
   "source": [
    "import matplotlib.pyplot as plt\n",
    "import numpy as np\n",
    "from itertools import combinations\n",
    "from twirl.utils import *\n",
    "\n",
    "%config IPCompleter.use_jedi = False"
   ]
  },
  {
   "cell_type": "code",
   "execution_count": 2,
   "id": "hydraulic-publicity",
   "metadata": {},
   "outputs": [],
   "source": [
    "def R(theta, dx, dy, s=1):\n",
    "    return np.array([\n",
    "        [s*np.cos(theta), -s*np.sin(theta), s*dx],\n",
    "        [s*np.sin(theta), s*np.cos(theta), s*dy],\n",
    "        [0, 0, 1],\n",
    "    ])"
   ]
  },
  {
   "cell_type": "code",
   "execution_count": 3,
   "id": "protected-delight",
   "metadata": {},
   "outputs": [],
   "source": [
    "# We generate data and apply an affine transform to have the second dataset\n",
    "\n",
    "np.random.seed(42)\n",
    "\n",
    "r = R(np.pi*np.random.rand(), 1000, 100, 2)\n",
    "n = 30\n",
    "s1 = np.random.rand(2, n)*100\n",
    "s2 = s1 + np.random.rand(*s1.shape)\n",
    "s2 = (r@np.pad(s2, (0, 1))).T[0:-1, 0:-1]\n",
    "np.random.shuffle(s2)\n",
    "s2 = s2.T\n",
    "\n",
    "idxs = np.arange(s1.shape[1])\n",
    "s1 = s1[:, np.random.choice(idxs, size=20, replace=False)]\n",
    "s2 = s2[:, np.random.choice(idxs, size=20, replace=False)]"
   ]
  },
  {
   "cell_type": "code",
   "execution_count": 4,
   "id": "cultural-lying",
   "metadata": {},
   "outputs": [
    {
     "data": {
      "image/png": "[encoded data removed]",
      "text/plain": [
       "<Figure size 432x288 with 1 Axes>"
      ]
     },
     "metadata": {
      "needs_background": "light"
     },
     "output_type": "display_data"
    }
   ],
   "source": [
    "ax = plt.subplot(111)\n",
    "plot(*s1.T)\n",
    "plot(*s2.T, color=\"C0\")"
   ]
  },
  {
   "cell_type": "markdown",
   "id": "exceptional-profession",
   "metadata": {},
   "source": [
    "## Building the quads and hash codes"
   ]
  },
  {
   "cell_type": "code",
   "execution_count": 5,
   "id": "reasonable-scanner",
   "metadata": {},
   "outputs": [],
   "source": [
    "# all quads\n",
    "\n",
    "quatidxs = list(combinations(np.arange(s1.shape[1]), 4))"
   ]
  },
  {
   "cell_type": "code",
   "execution_count": 6,
   "id": "baking-creator",
   "metadata": {},
   "outputs": [
    {
     "data": {
      "image/png": "[encoded data removed]",
      "text/plain": [
       "<Figure size 432x288 with 1 Axes>"
      ]
     },
     "metadata": {
      "needs_background": "light"
     },
     "output_type": "display_data"
    }
   ],
   "source": [
    "# What the quads look like\n",
    "\n",
    "i = 12\n",
    "a, b, c, d = s1[:, [q for q in quatidxs[i]]].T\n",
    "a, b, c, d = reorganize(a, b, c, d)\n",
    "\n",
    "plot_quad(a, b, c, d)"
   ]
  },
  {
   "cell_type": "code",
   "execution_count": 7,
   "id": "tight-point",
   "metadata": {},
   "outputs": [
    {
     "data": {
      "text/plain": [
       "(-0.20260405510794677,\n",
       " 0.13501078807206024,\n",
       " 1.1724281082583718,\n",
       " 1.486378631484014)"
      ]
     },
     "execution_count": 7,
     "metadata": {},
     "output_type": "execute_result"
    }
   ],
   "source": [
    "# What a hash code looks like\n",
    "\n",
    "quad_hash(*s1[:, quatidxs[i]].T)"
   ]
  },
  {
   "cell_type": "markdown",
   "id": "indian-calgary",
   "metadata": {},
   "source": [
    "# Building all quads"
   ]
  },
  {
   "cell_type": "code",
   "execution_count": 8,
   "id": "described-limitation",
   "metadata": {},
   "outputs": [
    {
     "data": {
      "text/plain": [
       "4845"
      ]
     },
     "execution_count": 8,
     "metadata": {},
     "output_type": "execute_result"
    }
   ],
   "source": [
    "# We have a lot of combinations\n",
    "len(quatidxs)"
   ]
  },
  {
   "cell_type": "code",
   "execution_count": 9,
   "id": "prescribed-vermont",
   "metadata": {},
   "outputs": [],
   "source": [
    "# For all them we pick the \"good\" ones and index the stars\n",
    "\n",
    "quads1 = []\n",
    "quads2 = []\n",
    "stars1 = []\n",
    "stars2 = []\n",
    "\n",
    "for qi in quatidxs:\n",
    "    _quad = reorganize(*s1[:, qi].T)\n",
    "    if good_quad(*_quad):\n",
    "        quads1.append(quad_hash(*_quad))\n",
    "        stars1.append(_quad)\n",
    "        \n",
    "    _quad = reorganize(*s2[:, qi].T)\n",
    "    if good_quad(*_quad):\n",
    "        quads2.append(quad_hash(*_quad))\n",
    "        stars2.append(_quad)\n",
    "        \n",
    "quads1 = np.array(quads1)\n",
    "quads2 = np.array(quads2)\n",
    "stars1 = np.array(stars1)\n",
    "stars2 = np.array(stars2)"
   ]
  },
  {
   "cell_type": "markdown",
   "id": "valid-kentucky",
   "metadata": {},
   "source": [
    "# Matching quads"
   ]
  },
  {
   "cell_type": "code",
   "execution_count": 10,
   "id": "precious-routine",
   "metadata": {},
   "outputs": [
    {
     "data": {
      "text/plain": [
       "(609,\n",
       " array([ 0.22276411,  0.48058129,  0.60180559, -0.01192513]),\n",
       " array([ 0.22410484,  0.48283663,  0.60201083, -0.01332132]))"
      ]
     },
     "execution_count": 10,
     "metadata": {},
     "output_type": "execute_result"
    }
   ],
   "source": [
    "# We now make the KDTree to work on the closest matches\n",
    "from scipy.spatial import KDTree\n",
    "\n",
    "kdtree = KDTree(quads1)\n",
    "\n",
    "distances = [np.linalg.norm(q - quads1[kdtree.query(q)[1]]) for q in quads2]\n",
    "best = np.argmin(distances)\n",
    "test = quads2[best]\n",
    "i = kdtree.query(test)[1]\n",
    "closest_quad = quads1[i]\n",
    "\n",
    "# this is our best match\n",
    "i, test, closest_quad"
   ]
  },
  {
   "cell_type": "code",
   "execution_count": 11,
   "id": "settled-duplicate",
   "metadata": {},
   "outputs": [
    {
     "data": {
      "image/png": "[encoded data removed]",
      "text/plain": [
       "<Figure size 432x288 with 1 Axes>"
      ]
     },
     "metadata": {
      "needs_background": "light"
     },
     "output_type": "display_data"
    }
   ],
   "source": [
    "# Indeed it looks identical but transformed\n",
    "S2 = stars2[best]\n",
    "S1 = stars1[i]\n",
    "\n",
    "plot(*S1)\n",
    "plot(*S2, color=\"C3\")"
   ]
  },
  {
   "cell_type": "markdown",
   "id": "optional-heart",
   "metadata": {},
   "source": [
    "# Finding the transformation matrix"
   ]
  },
  {
   "cell_type": "code",
   "execution_count": 12,
   "id": "bright-keeping",
   "metadata": {},
   "outputs": [],
   "source": [
    "f = find_transform(S2, S1, return_function=True)"
   ]
  },
  {
   "cell_type": "code",
   "execution_count": 13,
   "id": "typical-shelf",
   "metadata": {},
   "outputs": [
    {
     "data": {
      "image/png": "[encoded data removed]",
      "text/plain": [
       "<Figure size 432x288 with 1 Axes>"
      ]
     },
     "metadata": {
      "needs_background": "light"
     },
     "output_type": "display_data"
    }
   ],
   "source": [
    "plot(*f(s2.T), label=\"original\")\n",
    "plot(*s1.T, color=\"red\", label=\"matched\")\n",
    "#plot(*(np.linalg.inv(r)@np.pad(s2, (0, 1))).T[0:-1, 0:-1], color=\"C4\", label=\"true transform\")"
   ]
  }
 ],
 "metadata": {
  "kernelspec": {
   "display_name": "Python 3",
   "language": "python",
   "name": "python3"
  },
  "language_info": {
   "codemirror_mode": {
    "name": "ipython",
    "version": 3
   },
   "file_extension": ".py",
   "mimetype": "text/x-python",
   "name": "python",
   "nbconvert_exporter": "python",
   "pygments_lexer": "ipython3",
   "version": "3.6.5"
  }
 },
 "nbformat": 4,
 "nbformat_minor": 5
}
