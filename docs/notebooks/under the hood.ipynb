{
 "cells": [
  {
   "cell_type": "markdown",
   "id": "natural-retro",
   "metadata": {},
   "source": [
    "# Hunder the hood\n",
    "## Simulation of point clouds "
   ]
  },
  {
   "cell_type": "code",
   "execution_count": 1,
   "id": "periodic-transmission",
   "metadata": {},
   "outputs": [],
   "source": [
    "import matplotlib.pyplot as plt\n",
    "import numpy as np\n",
    "from itertools import combinations\n",
    "from twirl.utils import *\n",
    "\n",
    "%config IPCompleter.use_jedi = False"
   ]
  },
  {
   "cell_type": "code",
   "execution_count": 2,
   "id": "behavioral-chester",
   "metadata": {},
   "outputs": [],
   "source": [
    "def R(theta, dx, dy, s=1):\n",
    "    return np.array([\n",
    "        [s*np.cos(theta), -s*np.sin(theta), s*dx],\n",
    "        [s*np.sin(theta), s*np.cos(theta), s*dy],\n",
    "        [0, 0, 1],\n",
    "    ])"
   ]
  },
  {
   "cell_type": "code",
   "execution_count": 3,
   "id": "cardiovascular-flour",
   "metadata": {},
   "outputs": [],
   "source": [
    "# We generate data and apply an affine transform to have the second dataset\n",
    "\n",
    "np.random.seed(42)\n",
    "\n",
    "r = R(np.pi*np.random.rand(), 1000, 100, 2)\n",
    "n = 30\n",
    "s1 = np.random.rand(2, n)*100\n",
    "s2 = s1 + np.random.rand(*s1.shape)\n",
    "s2 = (r@np.pad(s2, (0, 1))).T[0:-1, 0:-1]\n",
    "np.random.shuffle(s2)\n",
    "s2 = s2.T\n",
    "\n",
    "idxs = np.arange(s1.shape[1])\n",
    "s1 = s1[:, np.random.choice(idxs, size=20, replace=False)]\n",
    "s2 = s2[:, np.random.choice(idxs, size=20, replace=False)]"
   ]
  },
  {
   "cell_type": "code",
   "execution_count": 4,
   "id": "extreme-constitutional",
   "metadata": {},
   "outputs": [
    {
     "data": {
      "image/png": "[encoded data removed]",
      "text/plain": [
       "<Figure size 432x288 with 1 Axes>"
      ]
     },
     "metadata": {
      "needs_background": "light"
     },
     "output_type": "display_data"
    }
   ],
   "source": [
    "ax = plt.subplot(111)\n",
    "plot(*s1.T)\n",
    "plot(*s2.T, color=\"C0\")"
   ]
  },
  {
   "cell_type": "markdown",
   "id": "spare-indianapolis",
   "metadata": {},
   "source": [
    "## Building the quads and hash codes"
   ]
  },
  {
   "cell_type": "code",
   "execution_count": 5,
   "id": "lesser-daily",
   "metadata": {},
   "outputs": [],
   "source": [
    "# all quads\n",
    "\n",
    "quatidxs = list(combinations(np.arange(s1.shape[1]), 4))"
   ]
  },
  {
   "cell_type": "code",
   "execution_count": 6,
   "id": "scheduled-major",
   "metadata": {},
   "outputs": [
    {
     "data": {
      "image/png": "[encoded data removed]",
      "text/plain": [
       "<Figure size 432x288 with 1 Axes>"
      ]
     },
     "metadata": {
      "needs_background": "light"
     },
     "output_type": "display_data"
    }
   ],
   "source": [
    "# What the quads look like\n",
    "\n",
    "i = 12\n",
    "a, b, c, d = s1[:, [q for q in quatidxs[i]]].T\n",
    "a, b, c, d = reorganize(a, b, c, d)\n",
    "\n",
    "plot_quad(a, b, c, d)"
   ]
  },
  {
   "cell_type": "code",
   "execution_count": 7,
   "id": "female-basketball",
   "metadata": {},
   "outputs": [
    {
     "data": {
      "text/plain": [
       "(-0.20260405510794677,\n",
       " 0.13501078807206024,\n",
       " 1.1724281082583718,\n",
       " 1.486378631484014)"
      ]
     },
     "execution_count": 7,
     "metadata": {},
     "output_type": "execute_result"
    }
   ],
   "source": [
    "# What a hash code looks like\n",
    "\n",
    "quad_hash(*s1[:, quatidxs[i]].T)"
   ]
  },
  {
   "cell_type": "markdown",
   "id": "pursuant-utility",
   "metadata": {},
   "source": [
    "# Building all quads"
   ]
  },
  {
   "cell_type": "code",
   "execution_count": 8,
   "id": "hidden-damages",
   "metadata": {},
   "outputs": [
    {
     "data": {
      "text/plain": [
       "4845"
      ]
     },
     "execution_count": 8,
     "metadata": {},
     "output_type": "execute_result"
    }
   ],
   "source": [
    "# We have a lot of combinations\n",
    "len(quatidxs)"
   ]
  },
  {
   "cell_type": "code",
   "execution_count": 9,
   "id": "diagnostic-slope",
   "metadata": {},
   "outputs": [],
   "source": [
    "# For all them we pick the \"good\" ones and index the stars\n",
    "\n",
    "quads1 = []\n",
    "quads2 = []\n",
    "stars1 = []\n",
    "stars2 = []\n",
    "\n",
    "for qi in quatidxs:\n",
    "    _quad = reorganize(*s1[:, qi].T)\n",
    "    if good_quad(*_quad):\n",
    "        quads1.append(quad_hash(*_quad))\n",
    "        stars1.append(_quad)\n",
    "        \n",
    "    _quad = reorganize(*s2[:, qi].T)\n",
    "    if good_quad(*_quad):\n",
    "        quads2.append(quad_hash(*_quad))\n",
    "        stars2.append(_quad)\n",
    "        \n",
    "quads1 = np.array(quads1)\n",
    "quads2 = np.array(quads2)\n",
    "stars1 = np.array(stars1)\n",
    "stars2 = np.array(stars2)"
   ]
  },
  {
   "cell_type": "markdown",
   "id": "judicial-elimination",
   "metadata": {},
   "source": [
    "# Matching quads"
   ]
  },
  {
   "cell_type": "code",
   "execution_count": 10,
   "id": "martial-royal",
   "metadata": {},
   "outputs": [
    {
     "data": {
      "text/plain": [
       "(2699,\n",
       " array([0.22276411, 0.24650329, 0.60180559, 0.48800633]),\n",
       " array([0.22410484, 0.24682882, 0.60201083, 0.4872782 ]))"
      ]
     },
     "execution_count": 10,
     "metadata": {},
     "output_type": "execute_result"
    }
   ],
   "source": [
    "# We now make the KDTree to work on the closest matches\n",
    "from scipy.spatial import KDTree\n",
    "\n",
    "kdtree = KDTree(quads1)\n",
    "\n",
    "distances = [np.linalg.norm(q - quads1[kdtree.query(q)[1]]) for q in quads2]\n",
    "best = np.argmin(distances)\n",
    "test = quads2[best]\n",
    "i = kdtree.query(test)[1]\n",
    "closest_quad = quads1[i]\n",
    "\n",
    "# this is our best match\n",
    "i, test, closest_quad"
   ]
  },
  {
   "cell_type": "code",
   "execution_count": 11,
   "id": "reduced-statement",
   "metadata": {},
   "outputs": [
    {
     "data": {
      "image/png": "[encoded data removed]",
      "text/plain": [
       "<Figure size 432x288 with 1 Axes>"
      ]
     },
     "metadata": {
      "needs_background": "light"
     },
     "output_type": "display_data"
    }
   ],
   "source": [
    "# Indeed it looks identical but transformed\n",
    "S2 = stars2[best]\n",
    "S1 = stars1[i]\n",
    "\n",
    "plot(*S1)\n",
    "plot(*S2, color=\"C3\")"
   ]
  },
  {
   "cell_type": "markdown",
   "id": "boring-denial",
   "metadata": {},
   "source": [
    "# Finding the transformation matrix"
   ]
  },
  {
   "cell_type": "code",
   "execution_count": 18,
   "id": "removable-husband",
   "metadata": {},
   "outputs": [
    {
     "name": "stdout",
     "output_type": "stream",
     "text": [
      "[[ 1.89357429e-01  4.59459660e-01 -7.99743026e-01]\n",
      " [-4.60858948e-01  1.91068336e-01 -1.53995676e-02]\n",
      " [ 1.40409842e-17  1.73472348e-17  1.00000000e+00]]\n"
     ]
    },
    {
     "data": {
      "image/png": "[encoded data removed]",
      "text/plain": [
       "<Figure size 432x288 with 1 Axes>"
      ]
     },
     "metadata": {
      "needs_background": "light"
     },
     "output_type": "display_data"
    }
   ],
   "source": [
    "f = find_transform(S2, S1, show=True)\n",
    "print(f)"
   ]
  }
 ],
 "metadata": {
  "kernelspec": {
   "display_name": "Python 3",
   "language": "python",
   "name": "python3"
  },
  "language_info": {
   "codemirror_mode": {
    "name": "ipython",
    "version": 3
   },
   "file_extension": ".py",
   "mimetype": "text/x-python",
   "name": "python",
   "nbconvert_exporter": "python",
   "pygments_lexer": "ipython3",
   "version": "3.7.5"
  }
 },
 "nbformat": 4,
 "nbformat_minor": 5
}
